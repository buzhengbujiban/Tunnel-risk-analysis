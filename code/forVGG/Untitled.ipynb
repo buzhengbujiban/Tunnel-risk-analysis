{
 "cells": [
  {
   "cell_type": "code",
   "execution_count": null,
   "metadata": {},
   "outputs": [],
   "source": [
    "import torch\n",
    "from model import vgg\n",
    "from PIL import Image\n",
    "from torchvision import transforms\n",
    "import matplotlib.pyplot as plt\n",
    "import json\n",
    "\n",
    "# 预处理\n",
    "data_transform = transforms.Compose(\n",
    "    [transforms.Resize((224, 224)),\n",
    "     transforms.ToTensor(),\n",
    "     transforms.Normalize((0.5, 0.5, 0.5), (0.5, 0.5, 0.5))])\n",
    "\n",
    "# load image\n",
    "image_path = \"/home/user1/code/forVGG/data/photos/0/0.jpg\"\n",
    "img = Image.open(image_path).convert('RGB')\n",
    "plt.imshow(img)"
   ]
  },
  {
   "cell_type": "code",
   "execution_count": null,
   "metadata": {},
   "outputs": [],
   "source": [
    "\n",
    "# [N, C, H, W]\n",
    "img = data_transform(img)\n",
    "# expand batch dimension\n",
    "img = torch.unsqueeze(img, dim=0)\n",
    "\n",
    "# read class_indict\n",
    "try:\n",
    "    json_file = open('./class_indices.json', 'r')\n",
    "    class_indict = json.load(json_file)\n",
    "except Exception as e:\n",
    "    print(e)\n",
    "    exit(-1)\n",
    "\n",
    "# create model\n",
    "model = vgg(num_classes=3)\n",
    "# load model weights\n",
    "model_weight_path = \"./vgg16Net.pth\"\n",
    "model.load_state_dict(torch.load(model_weight_path))\n",
    "\n",
    "# 关闭 Dropout\n",
    "model.eval()\n",
    "with torch.no_grad():\n",
    "    # predict class\n",
    "    output = torch.squeeze(model(img))     # 将输出压缩，即压缩掉 batch 这个维度\n",
    "    predict = torch.softmax(output, dim=0)\n",
    "    predict_cla = torch.argmax(predict).numpy()\n",
    "print(class_indict[str(predict_cla)], predict[predict_cla].item())\n",
    "plt.show()\n",
    "\n"
   ]
  }
 ],
 "metadata": {
  "kernelspec": {
   "display_name": "Python 3",
   "language": "python",
   "name": "python3"
  },
  "language_info": {
   "codemirror_mode": {
    "name": "ipython",
    "version": 3
   },
   "file_extension": ".py",
   "mimetype": "text/x-python",
   "name": "python",
   "nbconvert_exporter": "python",
   "pygments_lexer": "ipython3",
   "version": "3.7.3"
  }
 },
 "nbformat": 4,
 "nbformat_minor": 2
}
